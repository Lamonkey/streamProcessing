{
 "cells": [
  {
   "cell_type": "markdown",
   "id": "selected-dividend",
   "metadata": {},
   "source": [
    "# Compute the Average for Pseudo Streaming Data"
   ]
  },
  {
   "cell_type": "code",
   "execution_count": 1,
   "id": "valued-avenue",
   "metadata": {},
   "outputs": [],
   "source": [
    "from pyspark.sql import SparkSession\n",
    "from pyspark.streaming import StreamingContext\n",
    "import time\n",
    "import math\n",
    "\n",
    "spark = SparkSession.\\\n",
    "        builder.\\\n",
    "        appName(\"pyspark-notebook\").\\\n",
    "        master(\"spark://spark-master:7077\").\\\n",
    "        config(\"spark.executor.memory\", \"512m\").\\\n",
    "        getOrCreate() \n",
    "\n",
    "sc = spark.sparkContext\n",
    "ticket_flights = sc.textFile('/data/ticket_flights.csv')"
   ]
  },
  {
   "cell_type": "markdown",
   "id": "chubby-luxembourg",
   "metadata": {},
   "source": [
    "## Batch Data Processing from HW3\n",
    "* In the order of Key: (avg, sum, count)"
   ]
  },
  {
   "cell_type": "code",
   "execution_count": 2,
   "id": "hybrid-equity",
   "metadata": {},
   "outputs": [
    {
     "data": {
      "text/plain": [
       "[('Comfort', (32740.552888786075, 566116900.0, 17291)),\n",
       " ('Economy', (15959.813334810322, 14695684400.0, 920793)),\n",
       " ('Business', (51143.416138681925, 5505179600.0, 107642))]"
      ]
     },
     "execution_count": 2,
     "metadata": {},
     "output_type": "execute_result"
    }
   ],
   "source": [
    "def map_avg(x):\n",
    "    split = x.split(\",\")\n",
    "    return split[2], float(split[3])\n",
    "\n",
    "ticket_flights.map(map_avg) \\\n",
    "              .mapValues(lambda x: (x, 1)) \\\n",
    "              .reduceByKey(lambda a, b: (a[0] + b[0], a[1] + b[1])) \\\n",
    "              .mapValues(lambda x: (x[0]/x[1], x[0], x[1])).collect()"
   ]
  },
  {
   "cell_type": "markdown",
   "id": "front-combat",
   "metadata": {},
   "source": [
    "## Streaming Data Processing"
   ]
  },
  {
   "cell_type": "markdown",
   "id": "isolated-delhi",
   "metadata": {},
   "source": [
    "### Generate Pseudo Streaming Dataset\n",
    "\n",
    "* Randomly split the original rdd into a list of N_SPLIT rdds as the pseudo input for streaming data.\n",
    "* Each of the RDD can be considered as a single batch data at certain timestamp in the stream."
   ]
  },
  {
   "cell_type": "code",
   "execution_count": 3,
   "id": "outdoor-platform",
   "metadata": {},
   "outputs": [],
   "source": [
    "# Create the queue through which RDDs can be pushed to a QueueInputDStream\n",
    "N_SPLIT = 10\n",
    "\n",
    "queue_rdds = ticket_flights.randomSplit([0.1 for _ in range(N_SPLIT)])"
   ]
  },
  {
   "cell_type": "markdown",
   "id": "historical-festival",
   "metadata": {},
   "source": [
    "### Compute and aggregate the average over streaming data\n",
    "* In the order of Key: (avg, sum, count)"
   ]
  },
  {
   "cell_type": "code",
   "execution_count": 4,
   "id": "noticed-barcelona",
   "metadata": {},
   "outputs": [
    {
     "name": "stdout",
     "output_type": "stream",
     "text": [
      "-------------------------------------------\n",
      "Time: 2021-04-06 01:39:31\n",
      "-------------------------------------------\n",
      "('Comfort', (32845.16893894487, 55409800.0, 1687))\n",
      "('Economy', (15992.695115591865, 1472095600.0, 92048))\n",
      "('Business', (51262.939326674066, 554254900.0, 10812))\n",
      "\n",
      "-------------------------------------------\n",
      "Time: 2021-04-06 01:39:32\n",
      "-------------------------------------------\n",
      "('Comfort', (33004.95137046861, 111985800.0, 3393))\n",
      "('Economy', (15983.014368330054, 2948914100.0, 184503))\n",
      "('Business', (51423.820307806076, 1112657200.0, 21637))\n",
      "\n",
      "-------------------------------------------\n",
      "Time: 2021-04-06 01:39:33\n",
      "-------------------------------------------\n",
      "('Comfort', (32744.12685982772, 167257000.0, 5108))\n",
      "('Economy', (15972.84692024398, 4415182400.0, 276418))\n",
      "('Business', (51444.39529848438, 1663197300.0, 32330))\n",
      "\n",
      "-------------------------------------------\n",
      "Time: 2021-04-06 01:39:34\n",
      "-------------------------------------------\n",
      "('Comfort', (32795.8649912332, 224454900.0, 6844))\n",
      "('Economy', (15969.489856534865, 5887328100.0, 368661))\n",
      "('Business', (51292.24181826598, 2216132600.0, 43206))\n",
      "\n",
      "-------------------------------------------\n",
      "Time: 2021-04-06 01:39:35\n",
      "-------------------------------------------\n",
      "('Comfort', (32751.145215672597, 281692600.0, 8601))\n",
      "('Economy', (15955.185536756544, 7345240900.0, 460367))\n",
      "('Business', (51212.41080719489, 2756047100.0, 53816))\n",
      "\n",
      "-------------------------------------------\n",
      "Time: 2021-04-06 01:39:36\n",
      "-------------------------------------------\n",
      "('Comfort', (32772.9847705888, 337856700.0, 10309))\n",
      "('Economy', (15951.790767694167, 8816044300.0, 552668))\n",
      "('Business', (51022.2198112184, 3291902600.0, 64519))\n",
      "\n",
      "-------------------------------------------\n",
      "Time: 2021-04-06 01:39:37\n",
      "-------------------------------------------\n",
      "('Comfort', (32729.658967731175, 392526800.0, 11993))\n",
      "('Economy', (15945.212675949198, 10271092800.0, 644149))\n",
      "('Business', (51004.853145925874, 3846531000.0, 75415))\n",
      "\n",
      "-------------------------------------------\n",
      "Time: 2021-04-06 01:39:38\n",
      "-------------------------------------------\n",
      "('Comfort', (32786.74839462931, 449309600.0, 13704))\n",
      "('Economy', (15944.972261972971, 11744014200.0, 736534))\n",
      "('Business', (51137.923800030134, 4411822100.0, 86273))\n",
      "\n",
      "-------------------------------------------\n",
      "Time: 2021-04-06 01:39:39\n",
      "-------------------------------------------\n",
      "('Comfort', (32746.081220900156, 506385400.0, 15464))\n",
      "('Economy', (15955.597534229048, 13218622200.0, 828463))\n",
      "('Business', (51132.48818265141, 4965118000.0, 97103))\n",
      "\n",
      "-------------------------------------------\n",
      "Time: 2021-04-06 01:39:41\n",
      "-------------------------------------------\n",
      "('Comfort', (32740.552888786075, 566116900.0, 17291))\n",
      "('Economy', (15959.813334810322, 14695684400.0, 920793))\n",
      "('Business', (51143.416138681925, 5505179600.0, 107642))\n",
      "\n",
      "-------------------------------------------\n",
      "Time: 2021-04-06 01:39:42\n",
      "-------------------------------------------\n",
      "('Comfort', (32740.552888786075, 566116900.0, 17291))\n",
      "('Economy', (15959.813334810322, 14695684400.0, 920793))\n",
      "('Business', (51143.416138681925, 5505179600.0, 107642))\n",
      "\n",
      "-------------------------------------------\n",
      "Time: 2021-04-06 01:39:43\n",
      "-------------------------------------------\n",
      "('Comfort', (32740.552888786075, 566116900.0, 17291))\n",
      "('Economy', (15959.813334810322, 14695684400.0, 920793))\n",
      "('Business', (51143.416138681925, 5505179600.0, 107642))\n",
      "\n",
      "-------------------------------------------\n",
      "Time: 2021-04-06 01:39:44\n",
      "-------------------------------------------\n",
      "('Comfort', (32740.552888786075, 566116900.0, 17291))\n",
      "('Economy', (15959.813334810322, 14695684400.0, 920793))\n",
      "('Business', (51143.416138681925, 5505179600.0, 107642))\n",
      "\n",
      "-------------------------------------------\n",
      "Time: 2021-04-06 01:39:45\n",
      "-------------------------------------------\n",
      "('Comfort', (32740.552888786075, 566116900.0, 17291))\n",
      "('Economy', (15959.813334810322, 14695684400.0, 920793))\n",
      "('Business', (51143.416138681925, 5505179600.0, 107642))\n",
      "\n",
      "-------------------------------------------\n",
      "Time: 2021-04-06 01:39:46\n",
      "-------------------------------------------\n",
      "('Comfort', (32740.552888786075, 566116900.0, 17291))\n",
      "('Economy', (15959.813334810322, 14695684400.0, 920793))\n",
      "('Business', (51143.416138681925, 5505179600.0, 107642))\n",
      "\n",
      "-------------------------------------------\n",
      "Time: 2021-04-06 01:39:47\n",
      "-------------------------------------------\n",
      "('Comfort', (32740.552888786075, 566116900.0, 17291))\n",
      "('Economy', (15959.813334810322, 14695684400.0, 920793))\n",
      "('Business', (51143.416138681925, 5505179600.0, 107642))\n",
      "\n"
     ]
    }
   ],
   "source": [
    "# initial spark streaming context with batch interval for 1 sec\n",
    "ssc = StreamingContext(sc, 1)\n",
    "\n",
    "# define the function to update the inner state\n",
    "def updateFunc(new_values, running_tuple):\n",
    "    '''\n",
    "        new_values: values in current data\n",
    "        running_tuple: values in states\n",
    "    '''\n",
    "    new_sum = [field[0] for field in new_values]\n",
    "    new_count = [field[1] for field in new_values]\n",
    "    running_sum, running_count = running_tuple\n",
    "    \n",
    "    return sum(new_sum, running_sum), sum(new_count, running_count)\n",
    "\n",
    "# checkpoints is required for state operation\n",
    "ssc.checkpoint(\"./checkpoints\")\n",
    "\n",
    "# state initialization\n",
    "initialStateRDD = sc.parallelize([(u'Economy', (0, 0)),\n",
    "                                  (u'Comfort', (0, 0)),\n",
    "                                  (u'Business', (0, 0))])\n",
    "\n",
    "# map and reduce operation for streaming data\n",
    "inputStream = ssc.queueStream(queue_rdds)\n",
    "out = inputStream.map(map_avg).mapValues(lambda x: (x, 1)) \\\n",
    "                        .reduceByKey(lambda a, b: (a[0] + b[0], a[1] + b[1])) \\\n",
    "                        .updateStateByKey(updateFunc, initialRDD=initialStateRDD) \\\n",
    "                        .mapValues(lambda x: (x[0] / x[1], x[0], x[1]))\n",
    "# log\n",
    "out.pprint()\n",
    "\n",
    "# run streaming for 15 sec.\n",
    "ssc.start()\n",
    "time.sleep(15)\n",
    "ssc.stop(stopSparkContext=True, stopGraceFully=True) "
   ]
  }
 ],
 "metadata": {
  "kernelspec": {
   "display_name": "Python 3",
   "language": "python",
   "name": "python3"
  },
  "language_info": {
   "codemirror_mode": {
    "name": "ipython",
    "version": 3
   },
   "file_extension": ".py",
   "mimetype": "text/x-python",
   "name": "python",
   "nbconvert_exporter": "python",
   "pygments_lexer": "ipython3",
   "version": "3.7.3"
  }
 },
 "nbformat": 4,
 "nbformat_minor": 5
}
