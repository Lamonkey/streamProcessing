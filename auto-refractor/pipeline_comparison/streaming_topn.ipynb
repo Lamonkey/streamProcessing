{
 "cells": [
  {
   "cell_type": "markdown",
   "id": "9bd541bb",
   "metadata": {},
   "source": [
    "# Select Top N of word count"
   ]
  },
  {
   "cell_type": "code",
   "execution_count": null,
   "id": "3ea198f6",
   "metadata": {},
   "outputs": [],
   "source": [
    "from pyspark.sql import SparkSession\n",
    "from pyspark.streaming import StreamingContext\n",
    "import time\n",
    "import math\n",
    "\n",
    "spark = SparkSession.\\\n",
    "        builder.\\\n",
    "        appName(\"pyspark-notebook\").\\\n",
    "        master(\"spark://spark-master:7077\").\\\n",
    "        config(\"spark.executor.memory\", \"512m\").\\\n",
    "        getOrCreate() \n",
    "\n",
    "sc = spark.sparkContext\n",
    "topn_rdds = sc.textFile('/data/test_text.txt')"
   ]
  },
  {
   "cell_type": "code",
   "execution_count": 2,
   "id": "a7ad3a7a",
   "metadata": {},
   "outputs": [
    {
     "data": {
      "text/plain": [
       "['Hello',\n",
       " 'Hello',\n",
       " 'Hello',\n",
       " 'Hello',\n",
       " 'Team',\n",
       " 'Team',\n",
       " 'Team',\n",
       " '1',\n",
       " '1',\n",
       " '1',\n",
       " '1',\n",
       " '2',\n",
       " '2',\n",
       " '2',\n",
       " '2',\n",
       " '2',\n",
       " '2',\n",
       " '2']"
      ]
     },
     "execution_count": 2,
     "metadata": {},
     "output_type": "execute_result"
    }
   ],
   "source": [
    "# show data\n",
    "topn_rdds.collect()"
   ]
  },
  {
   "cell_type": "markdown",
   "id": "e430eebf",
   "metadata": {},
   "source": [
    "# Batch data processing"
   ]
  },
  {
   "cell_type": "code",
   "execution_count": 3,
   "id": "b6b0cf51",
   "metadata": {},
   "outputs": [
    {
     "data": {
      "text/plain": [
       "['Hello', 'Hello']"
      ]
     },
     "execution_count": 3,
     "metadata": {},
     "output_type": "execute_result"
    }
   ],
   "source": [
    "topn_rdds.take(2)"
   ]
  },
  {
   "cell_type": "code",
   "execution_count": 4,
   "id": "88a99790",
   "metadata": {},
   "outputs": [],
   "source": [
    "def batch_pipeline(source,n):\n",
    "    target = (\n",
    "        source.flatMap(lambda line: line.split(\" \"))\n",
    "        .map(lambda word: (word, 1))\n",
    "        .reduceByKey(lambda x, y: x + y)\n",
    "        .sortBy(lambda x: x[1],ascending=False)\n",
    "        .take(n)\n",
    "    )\n",
    "    return target"
   ]
  },
  {
   "cell_type": "code",
   "execution_count": 5,
   "id": "d0616872",
   "metadata": {},
   "outputs": [
    {
     "data": {
      "text/plain": [
       "[('2', 7), ('1', 4), ('Hello', 4)]"
      ]
     },
     "execution_count": 5,
     "metadata": {},
     "output_type": "execute_result"
    }
   ],
   "source": [
    "batch_res = batch_pipeline(topn_rdds,3)\n",
    "batch_res"
   ]
  },
  {
   "cell_type": "markdown",
   "id": "73a4f271",
   "metadata": {},
   "source": [
    "# Stream Processing"
   ]
  },
  {
   "cell_type": "code",
   "execution_count": 6,
   "id": "02958ebd",
   "metadata": {},
   "outputs": [],
   "source": [
    "# Create the queue through which RDDs can be pushed to a QueueInputDStream\n",
    "N_SPLIT = 5\n",
    "\n",
    "queue_rdds = topn_rdds.randomSplit([0.1 for _ in range(N_SPLIT)])"
   ]
  },
  {
   "cell_type": "code",
   "execution_count": 7,
   "id": "da3fdc5b",
   "metadata": {},
   "outputs": [],
   "source": [
    "def stream_pipeline(source,n):\n",
    "    def updateFunc(new_values, running_value):\n",
    "        update_value = 0\n",
    "        if not running_value:\n",
    "            running_value = 0\n",
    "        update_value = sum([x for x in new_values]) + running_value\n",
    "        return update_value\n",
    "    target = (\n",
    "        source.flatMap(lambda line: line.split(\" \"))\n",
    "        .map(lambda word: (word, 1))\n",
    "        .reduceByKey(lambda x, y: x + y)\n",
    "        .updateStateByKey(updateFunc)\n",
    "        .transform(lambda rdd: rdd.sortBy(lambda x: x[1], ascending=False))\n",
    "        \n",
    "    )\n",
    "    return target"
   ]
  },
  {
   "cell_type": "markdown",
   "id": "aab15f90",
   "metadata": {},
   "source": [
    "### Compute and aggregate word counts over streaming data"
   ]
  },
  {
   "cell_type": "code",
   "execution_count": 8,
   "id": "56916d87",
   "metadata": {},
   "outputs": [
    {
     "name": "stdout",
     "output_type": "stream",
     "text": [
      "-------------------------------------------\n",
      "Time: 2021-04-27 01:14:47\n",
      "-------------------------------------------\n",
      "('Hello', 2)\n",
      "('Team', 1)\n",
      "\n",
      "-------------------------------------------\n",
      "Time: 2021-04-27 01:14:48\n",
      "-------------------------------------------\n",
      "('Hello', 3)\n",
      "('2', 3)\n",
      "('Team', 2)\n",
      "\n",
      "-------------------------------------------\n",
      "Time: 2021-04-27 01:14:49\n",
      "-------------------------------------------\n",
      "('2', 4)\n",
      "('Hello', 3)\n",
      "('Team', 2)\n",
      "\n",
      "-------------------------------------------\n",
      "Time: 2021-04-27 01:14:50\n",
      "-------------------------------------------\n",
      "('2', 5)\n",
      "('Hello', 4)\n",
      "('Team', 2)\n",
      "...\n",
      "\n",
      "-------------------------------------------\n",
      "Time: 2021-04-27 01:14:51\n",
      "-------------------------------------------\n",
      "('2', 7)\n",
      "('Hello', 4)\n",
      "('1', 4)\n",
      "...\n",
      "\n",
      "-------------------------------------------\n",
      "Time: 2021-04-27 01:14:52\n",
      "-------------------------------------------\n",
      "('2', 7)\n",
      "('Hello', 4)\n",
      "('1', 4)\n",
      "...\n",
      "\n",
      "-------------------------------------------\n",
      "Time: 2021-04-27 01:14:53\n",
      "-------------------------------------------\n",
      "('2', 7)\n",
      "('Hello', 4)\n",
      "('1', 4)\n",
      "...\n",
      "\n"
     ]
    }
   ],
   "source": [
    "# initial spark streaming context with batch interval for 1 sec\n",
    "ssc = StreamingContext(sc, 1)\n",
    "\n",
    "# checkpoints is required for state operation\n",
    "ssc.checkpoint(\"./checkpoints\")\n",
    "\n",
    "# init input stream\n",
    "inputStream = ssc.queueStream(queue_rdds)\n",
    "\n",
    "# call stream pipeline\n",
    "out = stream_pipeline(inputStream,3)\n",
    "\n",
    "# log\n",
    "n = 3\n",
    "\n",
    "out.pprint(n)\n",
    "\n",
    "# run streaming for 5 sec.\n",
    "ssc.start()\n",
    "time.sleep(5)\n",
    "ssc.stop(stopSparkContext=True, stopGraceFully=True) "
   ]
  },
  {
   "cell_type": "code",
   "execution_count": null,
   "id": "d23b4060",
   "metadata": {},
   "outputs": [],
   "source": []
  }
 ],
 "metadata": {
  "kernelspec": {
   "display_name": "Python 3",
   "language": "python",
   "name": "python3"
  },
  "language_info": {
   "codemirror_mode": {
    "name": "ipython",
    "version": 3
   },
   "file_extension": ".py",
   "mimetype": "text/x-python",
   "name": "python",
   "nbconvert_exporter": "python",
   "pygments_lexer": "ipython3",
   "version": "3.7.3"
  }
 },
 "nbformat": 4,
 "nbformat_minor": 5
}
