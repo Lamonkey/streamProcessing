{
 "cells": [
  {
   "cell_type": "markdown",
   "id": "bottom-respect",
   "metadata": {},
   "source": [
    "# Select Top N of word count"
   ]
  },
  {
   "cell_type": "code",
   "execution_count": 1,
   "id": "complete-colombia",
   "metadata": {},
   "outputs": [],
   "source": [
    "from pyspark.sql import SparkSession\n",
    "from pyspark.streaming import StreamingContext\n",
    "import time\n",
    "import math\n",
    "\n",
    "spark = SparkSession.\\\n",
    "        builder.\\\n",
    "        appName(\"pyspark-notebook\").\\\n",
    "        master(\"spark://spark-master:7077\").\\\n",
    "        config(\"spark.executor.memory\", \"512m\").\\\n",
    "        getOrCreate() \n",
    "\n",
    "sc = spark.sparkContext\n",
    "topn_rdds = sc.textFile('/data/word_count_test_v1.txt')"
   ]
  },
  {
   "cell_type": "markdown",
   "id": "requested-debate",
   "metadata": {},
   "source": [
    "# Batch data processing"
   ]
  },
  {
   "cell_type": "code",
   "execution_count": 2,
   "id": "roman-investigator",
   "metadata": {},
   "outputs": [
    {
     "data": {
      "text/plain": [
       "['Hello', 'Hello']"
      ]
     },
     "execution_count": 2,
     "metadata": {},
     "output_type": "execute_result"
    }
   ],
   "source": [
    "topn_rdds.take(2)"
   ]
  },
  {
   "cell_type": "code",
   "execution_count": 3,
   "id": "neither-hormone",
   "metadata": {},
   "outputs": [],
   "source": [
    "def batch_pipeline(source):\n",
    "    target = (\n",
    "        source.flatMap(lambda line: line.split(\" \"))\n",
    "        .map(lambda word: (word, 1))\n",
    "        .reduceByKey(lambda x, y: (x + y))\n",
    "        .sortBy(lambda x: x[1],ascending=False)\n",
    "        .take(3)\n",
    "    )\n",
    "    return target"
   ]
  },
  {
   "cell_type": "code",
   "execution_count": 4,
   "id": "republican-warren",
   "metadata": {},
   "outputs": [
    {
     "data": {
      "text/plain": [
       "[('2', 9), ('9', 7), ('4', 6)]"
      ]
     },
     "execution_count": 4,
     "metadata": {},
     "output_type": "execute_result"
    }
   ],
   "source": [
    "batch_res = batch_pipeline(topn_rdds)\n",
    "batch_res"
   ]
  },
  {
   "cell_type": "markdown",
   "id": "structural-skill",
   "metadata": {},
   "source": [
    "# Stream Processing"
   ]
  },
  {
   "cell_type": "code",
   "execution_count": 5,
   "id": "alike-citation",
   "metadata": {},
   "outputs": [],
   "source": [
    "# Create the queue through which RDDs can be pushed to a QueueInputDStream\n",
    "N_SPLIT = 5\n",
    "\n",
    "queue_rdds = topn_rdds.randomSplit([0.1 for _ in range(N_SPLIT)])"
   ]
  },
  {
   "cell_type": "code",
   "execution_count": 6,
   "id": "worth-lottery",
   "metadata": {},
   "outputs": [],
   "source": [
    "def stream_pipeline(source):\n",
    "    def updateFunc(new_values, running_value):\n",
    "        update_value = 0\n",
    "        if not running_value:\n",
    "            running_value = 0\n",
    "        update_value = sum([x for x in new_values]) + running_value\n",
    "        return update_value\n",
    "    target = (\n",
    "        source.flatMap(lambda line: line.split(\" \"))\n",
    "        .map(lambda word: (word, 1))\n",
    "        .reduceByKey(lambda x, y: (x + y))\n",
    "        .updateStateByKey(updateFunc)\n",
    "        .transform(lambda rdd: rdd.sortBy(lambda x: x[1], ascending=False))\n",
    "        .pprint(3)\n",
    "    )\n",
    "    return target"
   ]
  },
  {
   "cell_type": "markdown",
   "id": "elder-spouse",
   "metadata": {},
   "source": [
    "### Compute and aggregate word counts over streaming data"
   ]
  },
  {
   "cell_type": "code",
   "execution_count": 7,
   "id": "controlled-forth",
   "metadata": {},
   "outputs": [
    {
     "name": "stdout",
     "output_type": "stream",
     "text": [
      "-------------------------------------------\n",
      "Time: 2021-04-27 04:10:27\n",
      "-------------------------------------------\n",
      "('Hello', 1)\n",
      "('1', 1)\n",
      "('4', 1)\n",
      "...\n",
      "\n",
      "-------------------------------------------\n",
      "Time: 2021-04-27 04:10:28\n",
      "-------------------------------------------\n",
      "('2', 2)\n",
      "('Team', 2)\n",
      "('5', 2)\n",
      "...\n",
      "\n",
      "-------------------------------------------\n",
      "Time: 2021-04-27 04:10:29\n",
      "-------------------------------------------\n",
      "('2', 5)\n",
      "('9', 3)\n",
      "('Team', 3)\n",
      "...\n",
      "\n",
      "-------------------------------------------\n",
      "Time: 2021-04-27 04:10:30\n",
      "-------------------------------------------\n",
      "('2', 9)\n",
      "('1', 5)\n",
      "('4', 5)\n",
      "...\n",
      "\n",
      "-------------------------------------------\n",
      "Time: 2021-04-27 04:10:31\n",
      "-------------------------------------------\n",
      "('2', 9)\n",
      "('9', 7)\n",
      "('4', 6)\n",
      "...\n",
      "\n",
      "-------------------------------------------\n",
      "Time: 2021-04-27 04:10:32\n",
      "-------------------------------------------\n",
      "('2', 9)\n",
      "('9', 7)\n",
      "('4', 6)\n",
      "...\n",
      "\n",
      "-------------------------------------------\n",
      "Time: 2021-04-27 04:10:33\n",
      "-------------------------------------------\n",
      "('2', 9)\n",
      "('9', 7)\n",
      "('4', 6)\n",
      "...\n",
      "\n",
      "-------------------------------------------\n",
      "Time: 2021-04-27 04:10:34\n",
      "-------------------------------------------\n",
      "('2', 9)\n",
      "('9', 7)\n",
      "('4', 6)\n",
      "...\n",
      "\n"
     ]
    }
   ],
   "source": [
    "# initial spark streaming context with batch interval for 1 sec\n",
    "ssc = StreamingContext(sc, 1)\n",
    "\n",
    "# checkpoints is required for state operation\n",
    "ssc.checkpoint(\"./checkpoints\")\n",
    "\n",
    "# init input stream\n",
    "inputStream = ssc.queueStream(queue_rdds)\n",
    "\n",
    "# call stream pipeline\n",
    "out = stream_pipeline(inputStream)\n",
    "\n",
    "# run streaming for 5 sec.\n",
    "ssc.start()\n",
    "time.sleep(5)\n",
    "ssc.stop(stopSparkContext=True, stopGraceFully=True) "
   ]
  },
  {
   "cell_type": "code",
   "execution_count": null,
   "id": "irish-raleigh",
   "metadata": {},
   "outputs": [],
   "source": []
  }
 ],
 "metadata": {
  "kernelspec": {
   "display_name": "Python 3",
   "language": "python",
   "name": "python3"
  },
  "language_info": {
   "codemirror_mode": {
    "name": "ipython",
    "version": 3
   },
   "file_extension": ".py",
   "mimetype": "text/x-python",
   "name": "python",
   "nbconvert_exporter": "python",
   "pygments_lexer": "ipython3",
   "version": "3.7.3"
  }
 },
 "nbformat": 4,
 "nbformat_minor": 5
}
