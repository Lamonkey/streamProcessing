{
 "cells": [
  {
   "cell_type": "markdown",
   "id": "honey-johns",
   "metadata": {},
   "source": [
    "# Compute the Average of Pseudo Streaming Data"
   ]
  },
  {
   "cell_type": "code",
   "execution_count": 1,
   "id": "measured-beverage",
   "metadata": {},
   "outputs": [],
   "source": [
    "from pyspark.sql import SparkSession\n",
    "from pyspark.streaming import StreamingContext\n",
    "import time\n",
    "import math\n",
    "\n",
    "spark = SparkSession.\\\n",
    "        builder.\\\n",
    "        appName(\"pyspark-notebook\").\\\n",
    "        master(\"spark://spark-master:7077\").\\\n",
    "        config(\"spark.executor.memory\", \"512m\").\\\n",
    "        getOrCreate() \n",
    "\n",
    "sc = spark.sparkContext\n",
    "ticket_flights = sc.textFile('/data/ticket_flights.csv')"
   ]
  },
  {
   "cell_type": "markdown",
   "id": "american-forest",
   "metadata": {},
   "source": [
    "## Batch Data Processing from HW3\n",
    "* In the order of Key: (avg, count)"
   ]
  },
  {
   "cell_type": "code",
   "execution_count": 2,
   "id": "tired-wallace",
   "metadata": {},
   "outputs": [],
   "source": [
    "def batch_pipeline(source):\n",
    "    target = (\n",
    "        source.map(lambda x: (x.split(\",\")[2], float(x.split(\",\")[3])))\n",
    "        .mapValues(lambda x: (x, 1))\n",
    "        .reduceByKey(lambda a, b: (a[0] + b[0], a[1] + b[1]))\n",
    "        .mapValues(lambda x: (x[0] / x[1], x[1]))\n",
    "    )\n",
    "    return target"
   ]
  },
  {
   "cell_type": "code",
   "execution_count": 3,
   "id": "center-material",
   "metadata": {},
   "outputs": [
    {
     "data": {
      "text/plain": [
       "[('Comfort', (32740.552888786075, 17291)),\n",
       " ('Economy', (15959.813334810322, 920793)),\n",
       " ('Business', (51143.416138681925, 107642))]"
      ]
     },
     "execution_count": 3,
     "metadata": {},
     "output_type": "execute_result"
    }
   ],
   "source": [
    "batch_res = batch_pipeline(ticket_flights)\n",
    "batch_res.collect()"
   ]
  },
  {
   "cell_type": "markdown",
   "id": "imposed-medium",
   "metadata": {},
   "source": [
    "## Streaming Data Processing"
   ]
  },
  {
   "cell_type": "markdown",
   "id": "executive-television",
   "metadata": {},
   "source": [
    "### Generate Pseudo Streaming Dataset (Queue of RDDs)\n",
    "\n",
    "* Randomly split the original rdd into a list of N_SPLIT rdds as the pseudo input for streaming data.\n",
    "* Each of the RDD can be considered as a single batch data at certain timestamp in the stream."
   ]
  },
  {
   "cell_type": "code",
   "execution_count": 4,
   "id": "native-apparatus",
   "metadata": {},
   "outputs": [],
   "source": [
    "# Create the queue through which RDDs can be pushed to a QueueInputDStream\n",
    "N_SPLIT = 5\n",
    "\n",
    "queue_rdds = ticket_flights.randomSplit([0.1 for _ in range(N_SPLIT)])"
   ]
  },
  {
   "cell_type": "markdown",
   "id": "generous-tracy",
   "metadata": {},
   "source": [
    "* new_values: list of tuple\n",
    "* running_value: tuple"
   ]
  },
  {
   "cell_type": "code",
   "execution_count": 5,
   "id": "binding-earthquake",
   "metadata": {},
   "outputs": [],
   "source": [
    "def stream_pipeline(source):\n",
    "    def updateFunc(new_values, running_value):\n",
    "        update_values = [0, 0]\n",
    "        if not running_value:\n",
    "            running_value = [0, 0]\n",
    "        \n",
    "        update_values[0] = sum([x[0] for x in new_values]) +  running_value[0]\n",
    "        update_values[1] = sum([x[1] for x in new_values]) + running_value[1]\n",
    "        return update_values\n",
    "\n",
    "    target = (\n",
    "        source.map(lambda x: (x.split(\",\")[2], float(x.split(\",\")[3])))\n",
    "        .mapValues(lambda x: (x, 1))\n",
    "        .reduceByKey(lambda a, b: (a[0] + b[0], a[1] + b[1]))\n",
    "        .updateStateByKey(updateFunc)\n",
    "        .mapValues(lambda x: (x[0] / x[1], x[1]))\n",
    "    )\n",
    "    return target"
   ]
  },
  {
   "cell_type": "markdown",
   "id": "ranging-breath",
   "metadata": {},
   "source": [
    "### Compute and aggregate the average over streaming data\n",
    "* In the order of Key: (avg, count)"
   ]
  },
  {
   "cell_type": "code",
   "execution_count": 6,
   "id": "proved-thing",
   "metadata": {},
   "outputs": [
    {
     "name": "stdout",
     "output_type": "stream",
     "text": [
      "-------------------------------------------\n",
      "Time: 2021-04-26 20:37:33\n",
      "-------------------------------------------\n",
      "('Economy', (15966.371902668094, 183989))\n",
      "('Comfort', (32836.21082621082, 3510))\n",
      "('Business', (51092.557056357706, 21470))\n",
      "\n",
      "-------------------------------------------\n",
      "Time: 2021-04-26 20:37:34\n",
      "-------------------------------------------\n",
      "('Economy', (15953.35282899609, 368629))\n",
      "('Comfort', (32715.675831294084, 6947))\n",
      "('Business', (51088.21659007566, 43086))\n",
      "\n",
      "-------------------------------------------\n",
      "Time: 2021-04-26 20:37:35\n",
      "-------------------------------------------\n",
      "('Economy', (15976.10286393242, 552108))\n",
      "('Comfort', (32681.605671584595, 10438))\n",
      "('Business', (51333.27563557685, 64705))\n",
      "\n",
      "-------------------------------------------\n",
      "Time: 2021-04-26 20:37:36\n",
      "-------------------------------------------\n",
      "('Economy', (15968.0647673737, 736976))\n",
      "('Comfort', (32722.388275214787, 13851))\n",
      "('Business', (51302.10567905825, 86053))\n",
      "\n",
      "-------------------------------------------\n",
      "Time: 2021-04-26 20:37:37\n",
      "-------------------------------------------\n",
      "('Economy', (15959.813334810322, 920793))\n",
      "('Comfort', (32740.552888786075, 17291))\n",
      "('Business', (51143.416138681925, 107642))\n",
      "\n",
      "-------------------------------------------\n",
      "Time: 2021-04-26 20:37:38\n",
      "-------------------------------------------\n",
      "('Economy', (15959.813334810322, 920793))\n",
      "('Comfort', (32740.552888786075, 17291))\n",
      "('Business', (51143.416138681925, 107642))\n",
      "\n",
      "-------------------------------------------\n",
      "Time: 2021-04-26 20:37:39\n",
      "-------------------------------------------\n",
      "('Economy', (15959.813334810322, 920793))\n",
      "('Comfort', (32740.552888786075, 17291))\n",
      "('Business', (51143.416138681925, 107642))\n",
      "\n"
     ]
    }
   ],
   "source": [
    "# initial spark streaming context with batch interval for 1 sec\n",
    "ssc = StreamingContext(sc, 1)\n",
    "\n",
    "# checkpoints is required for state operation\n",
    "ssc.checkpoint(\"./checkpoints\")\n",
    "\n",
    "# init input stream\n",
    "inputStream = ssc.queueStream(queue_rdds)\n",
    "\n",
    "# call stream pipeline\n",
    "out = stream_pipeline(inputStream)\n",
    "\n",
    "# log\n",
    "out.pprint()\n",
    "\n",
    "# run streaming for 5 sec.\n",
    "ssc.start()\n",
    "time.sleep(5)\n",
    "ssc.stop(stopSparkContext=True, stopGraceFully=True) "
   ]
  },
  {
   "cell_type": "markdown",
   "id": "proprietary-withdrawal",
   "metadata": {},
   "source": [
    "```\n",
    "[('Economy', (15959.813334810322, 920793)),\n",
    " ('Comfort', (32740.552888786075, 17291)),\n",
    " ('Business', (51143.416138681925, 107642))]\n",
    "```"
   ]
  },
  {
   "cell_type": "code",
   "execution_count": null,
   "id": "clinical-sally",
   "metadata": {},
   "outputs": [],
   "source": []
  }
 ],
 "metadata": {
  "kernelspec": {
   "display_name": "Python 3",
   "language": "python",
   "name": "python3"
  },
  "language_info": {
   "codemirror_mode": {
    "name": "ipython",
    "version": 3
   },
   "file_extension": ".py",
   "mimetype": "text/x-python",
   "name": "python",
   "nbconvert_exporter": "python",
   "pygments_lexer": "ipython3",
   "version": "3.7.3"
  }
 },
 "nbformat": 4,
 "nbformat_minor": 5
}
