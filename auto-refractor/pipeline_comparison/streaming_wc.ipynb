{
 "cells": [
  {
   "cell_type": "markdown",
   "id": "mature-teacher",
   "metadata": {},
   "source": [
    "# Compute the Average of Pseudo Streaming Data"
   ]
  },
  {
   "cell_type": "code",
   "execution_count": 1,
   "id": "concrete-colors",
   "metadata": {},
   "outputs": [],
   "source": [
    "from pyspark.sql import SparkSession\n",
    "from pyspark.streaming import StreamingContext\n",
    "import time\n",
    "import math\n",
    "\n",
    "spark = SparkSession.\\\n",
    "        builder.\\\n",
    "        appName(\"pyspark-notebook\").\\\n",
    "        master(\"spark://spark-master:7077\").\\\n",
    "        config(\"spark.executor.memory\", \"512m\").\\\n",
    "        getOrCreate() \n",
    "\n",
    "sc = spark.sparkContext\n",
    "wc_rdds = sc.textFile('/data/word_count_test_v1.txt')"
   ]
  },
  {
   "cell_type": "code",
   "execution_count": 2,
   "id": "modular-bronze",
   "metadata": {},
   "outputs": [
    {
     "data": {
      "text/plain": [
       "['Hello',\n",
       " 'Hello',\n",
       " 'Hello',\n",
       " 'Hello',\n",
       " 'Team',\n",
       " 'Team',\n",
       " 'Team',\n",
       " '1',\n",
       " '1',\n",
       " '1',\n",
       " '1',\n",
       " '2',\n",
       " '2',\n",
       " '2',\n",
       " '2',\n",
       " '2',\n",
       " '2',\n",
       " '2',\n",
       " '3',\n",
       " '3',\n",
       " '3',\n",
       " '3',\n",
       " '3',\n",
       " '4',\n",
       " '4',\n",
       " '4',\n",
       " '4',\n",
       " '4',\n",
       " '5',\n",
       " '5',\n",
       " '5',\n",
       " '5',\n",
       " '5',\n",
       " '5',\n",
       " '9',\n",
       " '9',\n",
       " '9',\n",
       " '9',\n",
       " '9',\n",
       " '9',\n",
       " '1',\n",
       " '2',\n",
       " '4',\n",
       " '3',\n",
       " '7',\n",
       " '8',\n",
       " '9',\n",
       " '2']"
      ]
     },
     "execution_count": 2,
     "metadata": {},
     "output_type": "execute_result"
    }
   ],
   "source": [
    "# show data\n",
    "wc_rdds.collect()"
   ]
  },
  {
   "cell_type": "markdown",
   "id": "nutritional-recipient",
   "metadata": {},
   "source": [
    "## Batch Data Processing Pipeline\n",
    "* In the order of Key: Count"
   ]
  },
  {
   "cell_type": "code",
   "execution_count": 3,
   "id": "listed-knowing",
   "metadata": {},
   "outputs": [],
   "source": [
    "def batch_pipeline(source):\n",
    "    target = (\n",
    "        source.flatMap(lambda line: line.split(\" \"))\n",
    "        .map(lambda word: (word, 1))\n",
    "        .reduceByKey(lambda x, y: x + y)\n",
    "    )\n",
    "    return target"
   ]
  },
  {
   "cell_type": "code",
   "execution_count": 4,
   "id": "floppy-harmony",
   "metadata": {},
   "outputs": [
    {
     "data": {
      "text/plain": [
       "[('4', 6),\n",
       " ('9', 7),\n",
       " ('1', 5),\n",
       " ('8', 1),\n",
       " ('Hello', 4),\n",
       " ('Team', 3),\n",
       " ('2', 9),\n",
       " ('3', 6),\n",
       " ('5', 6),\n",
       " ('7', 1)]"
      ]
     },
     "execution_count": 4,
     "metadata": {},
     "output_type": "execute_result"
    }
   ],
   "source": [
    "batch_res = batch_pipeline(wc_rdds)\n",
    "batch_res.collect()"
   ]
  },
  {
   "cell_type": "markdown",
   "id": "thorough-atlantic",
   "metadata": {},
   "source": [
    "## Streaming Data Processing"
   ]
  },
  {
   "cell_type": "markdown",
   "id": "threaded-catering",
   "metadata": {},
   "source": [
    "### Generate Pseudo Streaming Dataset (Queue of RDDs)\n",
    "\n",
    "* Randomly split the original rdd into a list of N_SPLIT rdds as the pseudo input for streaming data.\n",
    "* Each of the RDD can be considered as a single batch data at certain timestamp in the stream."
   ]
  },
  {
   "cell_type": "code",
   "execution_count": 5,
   "id": "moderate-capability",
   "metadata": {},
   "outputs": [],
   "source": [
    "# Create the queue through which RDDs can be pushed to a QueueInputDStream\n",
    "N_SPLIT = 5\n",
    "\n",
    "queue_rdds = wc_rdds.randomSplit([0.1 for _ in range(N_SPLIT)])"
   ]
  },
  {
   "cell_type": "code",
   "execution_count": 6,
   "id": "spare-operator",
   "metadata": {},
   "outputs": [],
   "source": [
    "def stream_pipeline(source):\n",
    "    def updateFunc(newValues, runningCount):\n",
    "        if runningCount is None:\n",
    "            runningCount = 0\n",
    "        # add the new values with the previous running count to get the new count\n",
    "        return sum(newValues, runningCount)  \n",
    "    target = (\n",
    "        source.flatMap(lambda line: line.split(\" \"))\n",
    "        .map(lambda word: (word, 1))\n",
    "        .updateStateByKey(updateFunc)\n",
    "    )\n",
    "    return target"
   ]
  },
  {
   "cell_type": "markdown",
   "id": "instructional-discussion",
   "metadata": {},
   "source": [
    "### Compute and aggregate word counts over streaming data"
   ]
  },
  {
   "cell_type": "code",
   "execution_count": 7,
   "id": "ethical-puppy",
   "metadata": {},
   "outputs": [
    {
     "name": "stdout",
     "output_type": "stream",
     "text": [
      "-------------------------------------------\n",
      "Time: 2021-04-26 02:31:58\n",
      "-------------------------------------------\n",
      "('4', 1)\n",
      "('9', 2)\n",
      "('Hello', 1)\n",
      "('1', 2)\n",
      "('Team', 1)\n",
      "('5', 1)\n",
      "('2', 1)\n",
      "\n",
      "-------------------------------------------\n",
      "Time: 2021-04-26 02:31:59\n",
      "-------------------------------------------\n",
      "('4', 1)\n",
      "('9', 2)\n",
      "('Hello', 1)\n",
      "('1', 3)\n",
      "('Team', 1)\n",
      "('5', 3)\n",
      "('2', 4)\n",
      "('3', 1)\n",
      "\n",
      "-------------------------------------------\n",
      "Time: 2021-04-26 02:32:00\n",
      "-------------------------------------------\n",
      "('4', 3)\n",
      "('9', 4)\n",
      "('Hello', 3)\n",
      "('1', 4)\n",
      "('Team', 2)\n",
      "('5', 4)\n",
      "('2', 6)\n",
      "('3', 2)\n",
      "\n",
      "-------------------------------------------\n",
      "Time: 2021-04-26 02:32:01\n",
      "-------------------------------------------\n",
      "('4', 4)\n",
      "('9', 6)\n",
      "('Hello', 4)\n",
      "('1', 5)\n",
      "('Team', 3)\n",
      "('5', 5)\n",
      "('2', 9)\n",
      "('3', 5)\n",
      "\n",
      "-------------------------------------------\n",
      "Time: 2021-04-26 02:32:02\n",
      "-------------------------------------------\n",
      "('4', 6)\n",
      "('9', 7)\n",
      "('Hello', 4)\n",
      "('1', 5)\n",
      "('8', 1)\n",
      "('Team', 3)\n",
      "('5', 6)\n",
      "('2', 9)\n",
      "('3', 6)\n",
      "('7', 1)\n",
      "\n",
      "-------------------------------------------\n",
      "Time: 2021-04-26 02:32:03\n",
      "-------------------------------------------\n",
      "('4', 6)\n",
      "('9', 7)\n",
      "('Hello', 4)\n",
      "('1', 5)\n",
      "('8', 1)\n",
      "('Team', 3)\n",
      "('5', 6)\n",
      "('2', 9)\n",
      "('3', 6)\n",
      "('7', 1)\n",
      "\n",
      "-------------------------------------------\n",
      "Time: 2021-04-26 02:32:04\n",
      "-------------------------------------------\n",
      "('4', 6)\n",
      "('9', 7)\n",
      "('Hello', 4)\n",
      "('1', 5)\n",
      "('8', 1)\n",
      "('Team', 3)\n",
      "('5', 6)\n",
      "('2', 9)\n",
      "('3', 6)\n",
      "('7', 1)\n",
      "\n"
     ]
    }
   ],
   "source": [
    "# initial spark streaming context with batch interval for 1 sec\n",
    "ssc = StreamingContext(sc, 1)\n",
    "\n",
    "# checkpoints is required for state operation\n",
    "ssc.checkpoint(\"./checkpoints\")\n",
    "\n",
    "# init input stream\n",
    "inputStream = ssc.queueStream(queue_rdds)\n",
    "\n",
    "# call stream pipeline\n",
    "out = stream_pipeline(inputStream)\n",
    "\n",
    "# log\n",
    "out.pprint()\n",
    "\n",
    "# run streaming for 5 sec.\n",
    "ssc.start()\n",
    "time.sleep(5)\n",
    "ssc.stop(stopSparkContext=True, stopGraceFully=True) "
   ]
  },
  {
   "cell_type": "markdown",
   "id": "light-specific",
   "metadata": {},
   "source": [
    "```\n",
    "[GT]\n",
    "[('Hello', 4),\n",
    " ('1', 5),\n",
    " ('4', 6),\n",
    " ('9', 7),\n",
    " ('8', 1),\n",
    " ('3', 6),\n",
    " ('5', 6),\n",
    " ('2', 9),\n",
    " ('7', 1),\n",
    " ('Team', 3)]\n",
    "```"
   ]
  },
  {
   "cell_type": "code",
   "execution_count": null,
   "id": "swiss-moore",
   "metadata": {},
   "outputs": [],
   "source": []
  }
 ],
 "metadata": {
  "kernelspec": {
   "display_name": "Python 3",
   "language": "python",
   "name": "python3"
  },
  "language_info": {
   "codemirror_mode": {
    "name": "ipython",
    "version": 3
   },
   "file_extension": ".py",
   "mimetype": "text/x-python",
   "name": "python",
   "nbconvert_exporter": "python",
   "pygments_lexer": "ipython3",
   "version": "3.7.3"
  }
 },
 "nbformat": 4,
 "nbformat_minor": 5
}
