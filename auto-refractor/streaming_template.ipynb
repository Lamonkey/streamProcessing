{
 "cells": [
  {
   "cell_type": "markdown",
   "id": "grave-raleigh",
   "metadata": {},
   "source": [
    "# Compute the Average of Pseudo Streaming Data"
   ]
  },
  {
   "cell_type": "code",
   "execution_count": 1,
   "id": "cardiac-haven",
   "metadata": {},
   "outputs": [],
   "source": [
    "from pyspark.sql import SparkSession\n",
    "from pyspark.streaming import StreamingContext\n",
    "import time\n",
    "import math\n",
    "\n",
    "spark = SparkSession.\\\n",
    "        builder.\\\n",
    "        appName(\"pyspark-notebook\").\\\n",
    "        master(\"spark://spark-master:7077\").\\\n",
    "        config(\"spark.executor.memory\", \"512m\").\\\n",
    "        getOrCreate() \n",
    "\n",
    "sc = spark.sparkContext\n",
    "ticket_flights = sc.textFile('/data/ticket_flights.csv')"
   ]
  },
  {
   "cell_type": "markdown",
   "id": "noted-greene",
   "metadata": {},
   "source": [
    "## Batch Data Processing from HW3\n",
    "* In the order of Key: (avg, count)"
   ]
  },
  {
   "cell_type": "code",
   "execution_count": 2,
   "id": "acceptable-enemy",
   "metadata": {},
   "outputs": [],
   "source": [
    "def batch_pipeline(source):\n",
    "    target = (\n",
    "        source.map(lambda x: (x.split(\",\")[2], float(x.split(\",\")[3])))\n",
    "        .mapValues(lambda x: (x, 1))\n",
    "        .reduceByKey(lambda a, b: (a[0] + b[0], a[1] + b[1]))\n",
    "        .mapValues(lambda x: (x[0] / x[1], x[1]))\n",
    "    )\n",
    "    return target"
   ]
  },
  {
   "cell_type": "code",
   "execution_count": 3,
   "id": "impressive-blood",
   "metadata": {},
   "outputs": [
    {
     "data": {
      "text/plain": [
       "[('Economy', (15959.813334810322, 920793)),\n",
       " ('Comfort', (32740.552888786075, 17291)),\n",
       " ('Business', (51143.416138681925, 107642))]"
      ]
     },
     "execution_count": 3,
     "metadata": {},
     "output_type": "execute_result"
    }
   ],
   "source": [
    "batch_res = batch_pipeline(ticket_flights)\n",
    "batch_res.collect()"
   ]
  },
  {
   "cell_type": "markdown",
   "id": "federal-respect",
   "metadata": {},
   "source": [
    "## Streaming Data Processing"
   ]
  },
  {
   "cell_type": "markdown",
   "id": "finite-folder",
   "metadata": {},
   "source": [
    "### Generate Pseudo Streaming Dataset (Queue of RDDs)\n",
    "\n",
    "* Randomly split the original rdd into a list of N_SPLIT rdds as the pseudo input for streaming data.\n",
    "* Each of the RDD can be considered as a single batch data at certain timestamp in the stream."
   ]
  },
  {
   "cell_type": "code",
   "execution_count": 4,
   "id": "enabling-nomination",
   "metadata": {},
   "outputs": [],
   "source": [
    "# Create the queue through which RDDs can be pushed to a QueueInputDStream\n",
    "N_SPLIT = 5\n",
    "\n",
    "queue_rdds = ticket_flights.randomSplit([0.1 for _ in range(N_SPLIT)])"
   ]
  },
  {
   "cell_type": "code",
   "execution_count": 5,
   "id": "regulation-marathon",
   "metadata": {},
   "outputs": [],
   "source": [
    "def stream_pipeline(source):\n",
    "    def updateFunc(new_values, running_tuple):\n",
    "        new_sum = [field[0] * field[1] for field in new_values]\n",
    "        new_count = [field[1] for field in new_values]\n",
    "\n",
    "        if not running_tuple:\n",
    "            running_avg = 0\n",
    "            running_count = 0\n",
    "        else:\n",
    "            running_avg, running_count = running_tuple\n",
    "\n",
    "        running_sum = running_avg * running_count\n",
    "        update_sum = sum(new_sum, running_sum)\n",
    "        update_count = sum(new_count, running_count)\n",
    "        update_avg = update_sum / update_count\n",
    "        return update_avg, update_count\n",
    "\n",
    "    target = (\n",
    "        source.map(lambda x: (x.split(\",\")[2], float(x.split(\",\")[3])))\n",
    "        .mapValues(lambda x: (x, 1))\n",
    "        .reduceByKey(lambda a, b: (a[0] + b[0], a[1] + b[1]))\n",
    "        .mapValues(lambda x: (x[0] / x[1], x[1]))\n",
    "        .updateStateByKey(updateFunc)\n",
    "    )\n",
    "    return target"
   ]
  },
  {
   "cell_type": "markdown",
   "id": "offshore-qualification",
   "metadata": {},
   "source": [
    "### Compute and aggregate the average over streaming data\n",
    "* In the order of Key: (avg, count)"
   ]
  },
  {
   "cell_type": "code",
   "execution_count": 6,
   "id": "textile-magnet",
   "metadata": {},
   "outputs": [
    {
     "name": "stdout",
     "output_type": "stream",
     "text": [
      "-------------------------------------------\n",
      "Time: 2021-04-23 18:42:49\n",
      "-------------------------------------------\n",
      "('Economy', (16026.36755262944, 184545))\n",
      "('Comfort', (32702.691980731084, 3529))\n",
      "('Business', (51113.696660482376, 21560))\n",
      "\n",
      "-------------------------------------------\n",
      "Time: 2021-04-23 18:42:50\n",
      "-------------------------------------------\n",
      "('Economy', (15985.060594134651, 368435))\n",
      "('Comfort', (32660.580376382703, 6961))\n",
      "('Business', (50977.0381416156, 42919))\n",
      "\n",
      "-------------------------------------------\n",
      "Time: 2021-04-23 18:42:51\n",
      "-------------------------------------------\n",
      "('Economy', (15964.777683903543, 552749))\n",
      "('Comfort', (32637.568687939845, 10373))\n",
      "('Business', (51024.595218543254, 64541))\n",
      "\n",
      "-------------------------------------------\n",
      "Time: 2021-04-23 18:42:52\n",
      "-------------------------------------------\n",
      "('Economy', (15956.222049400712, 736791))\n",
      "('Comfort', (32696.83722949989, 13817))\n",
      "('Business', (51076.47892230868, 86110))\n",
      "\n",
      "-------------------------------------------\n",
      "Time: 2021-04-23 18:42:53\n",
      "-------------------------------------------\n",
      "('Economy', (15959.813334810322, 920793))\n",
      "('Comfort', (32740.552888786075, 17291))\n",
      "('Business', (51143.416138681925, 107642))\n",
      "\n",
      "-------------------------------------------\n",
      "Time: 2021-04-23 18:42:54\n",
      "-------------------------------------------\n",
      "('Economy', (15959.813334810322, 920793))\n",
      "('Comfort', (32740.552888786075, 17291))\n",
      "('Business', (51143.416138681925, 107642))\n",
      "\n",
      "-------------------------------------------\n",
      "Time: 2021-04-23 18:42:55\n",
      "-------------------------------------------\n",
      "('Economy', (15959.813334810322, 920793))\n",
      "('Comfort', (32740.552888786075, 17291))\n",
      "('Business', (51143.416138681925, 107642))\n",
      "\n"
     ]
    }
   ],
   "source": [
    "# initial spark streaming context with batch interval for 1 sec\n",
    "ssc = StreamingContext(sc, 1)\n",
    "\n",
    "# checkpoints is required for state operation\n",
    "ssc.checkpoint(\"./checkpoints\")\n",
    "\n",
    "# init input stream\n",
    "inputStream = ssc.queueStream(queue_rdds)\n",
    "\n",
    "# call stream pipeline\n",
    "out = stream_pipeline(inputStream)\n",
    "\n",
    "# log\n",
    "out.pprint()\n",
    "\n",
    "# run streaming for 5 sec.\n",
    "ssc.start()\n",
    "time.sleep(5)\n",
    "ssc.stop(stopSparkContext=True, stopGraceFully=True) "
   ]
  },
  {
   "cell_type": "markdown",
   "id": "corresponding-amber",
   "metadata": {},
   "source": [
    "```\n",
    "[('Economy', (15959.813334810322, 920793)),\n",
    " ('Comfort', (32740.552888786075, 17291)),\n",
    " ('Business', (51143.416138681925, 107642))]\n",
    "```"
   ]
  },
  {
   "cell_type": "code",
   "execution_count": null,
   "id": "educational-chosen",
   "metadata": {},
   "outputs": [],
   "source": []
  }
 ],
 "metadata": {
  "kernelspec": {
   "display_name": "Python 3",
   "language": "python",
   "name": "python3"
  },
  "language_info": {
   "codemirror_mode": {
    "name": "ipython",
    "version": 3
   },
   "file_extension": ".py",
   "mimetype": "text/x-python",
   "name": "python",
   "nbconvert_exporter": "python",
   "pygments_lexer": "ipython3",
   "version": "3.7.3"
  }
 },
 "nbformat": 4,
 "nbformat_minor": 5
}
